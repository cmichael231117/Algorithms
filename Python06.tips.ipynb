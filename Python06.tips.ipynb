{
 "cells": [
  {
   "cell_type": "code",
   "execution_count": null,
   "metadata": {},
   "outputs": [],
   "source": [
    "# 프로그래머스\n",
    "\n",
    "## 해시\n",
    "\n",
    "### 01. 완주하지 못한 선수 : \n",
    "# Counter 객체 / \n",
    "# 각 해시값을 더하거나 뺀 값을 비교할 수 있다. hash()\n",
    "\n",
    "### 02. 전화번호 목록 : \n",
    "# startswith()로 접두사를 확인할 수 있다. / \n",
    "# zip()으로 비교할 쌍을 튜플로 만들 수 있다. / \n",
    "# 슬라이싱을 활용하면 접두사를 확인할 수 있다. / \n",
    "# 찾는 경우일 때 바로 return하면 효율적이다.\n",
    "\n",
    "### 03. 위장 : \n",
    "# 가짓수를 세야할 때, 조합을 사용하는 방법 대신, 각 경우에서 '선택하지 않을 경우'에 대해 가짓수를 +1 해주고 모두 곱한뒤 1을 빼준다.(모두 선택되지 않을 경우)\n",
    "\n",
    "### 04. :\n",
    "# .sort() 메소드는 값을 반환하지 않는다.\n",
    "# 람다식에 sum(), map() 함수도 쓸 수 있다."
   ]
  },
  {
   "cell_type": "code",
   "execution_count": 21,
   "metadata": {},
   "outputs": [
    {
     "name": "stdout",
     "output_type": "stream",
     "text": [
      "<class 'list'>\n",
      "<class 'list'>\n",
      "pop\n",
      "[(4, 2500), (1, 600)]\n",
      "classic\n",
      "[(3, 800), (0, 500), (2, 150)]\n",
      "[4, 1, 3, 0]\n"
     ]
    }
   ],
   "source": [
    "def solution(genres=[\"classic\", \"pop\", \"classic\", \"classic\", \"pop\"], plays=[500, 600, 150, 800, 2500]):\n",
    "    answer = []\n",
    "    dic = {}\n",
    "    for i in range(len(plays)):\n",
    "        if genres[i] not in dic:\n",
    "            dic[genres[i]] = [(i, plays[i])]\n",
    "        else:\n",
    "            dic[genres[i]].append((i, plays[i]))\n",
    "            \n",
    "    print(type(dic[\"pop\"]))\n",
    "\n",
    "    total_list = []\n",
    "    for key, value in dic.items():\n",
    "        dic[key].sort(key=lambda x:(-x[1], x[0]))\n",
    "        temp = 0\n",
    "        for _, num in value:\n",
    "            temp+=num\n",
    "        total_list.append((key, temp))\n",
    "        \n",
    "    total_list.sort(key=lambda x:-x[1])\n",
    "    \n",
    "    print(type(dic[\"pop\"]))\n",
    "    for key, a in total_list:\n",
    "        n=0\n",
    "        print(str(key))\n",
    "        print((dic[key]))\n",
    "        for i in range(len((dic[key]))):\n",
    "            answer.append(dic[key][i][0])\n",
    "            n+=1\n",
    "            if n > 1:\n",
    "                break\n",
    "    return answer\n",
    "print(solution())"
   ]
  }
 ],
 "metadata": {
  "interpreter": {
   "hash": "e134e05457d34029b6460cd73bbf1ed73f339b5b6d98c95be70b69eba114fe95"
  },
  "kernelspec": {
   "display_name": "Python 3.8.3 64-bit (conda)",
   "name": "python3"
  },
  "language_info": {
   "codemirror_mode": {
    "name": "ipython",
    "version": 3
   },
   "file_extension": ".py",
   "mimetype": "text/x-python",
   "name": "python",
   "nbconvert_exporter": "python",
   "pygments_lexer": "ipython3",
   "version": "3.8.3"
  },
  "orig_nbformat": 4
 },
 "nbformat": 4,
 "nbformat_minor": 2
}

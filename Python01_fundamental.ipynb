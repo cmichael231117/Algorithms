{
  "nbformat": 4,
  "nbformat_minor": 2,
  "metadata": {
    "colab": {
      "name": "Python.ipynb",
      "provenance": [],
      "collapsed_sections": []
    },
    "kernelspec": {
      "name": "python3",
      "display_name": "Python 3.8.3 64-bit (conda)"
    },
    "language_info": {
      "name": "python",
      "version": "3.8.3",
      "mimetype": "text/x-python",
      "codemirror_mode": {
        "name": "ipython",
        "version": 3
      },
      "pygments_lexer": "ipython3",
      "nbconvert_exporter": "python",
      "file_extension": ".py"
    },
    "interpreter": {
      "hash": "e134e05457d34029b6460cd73bbf1ed73f339b5b6d98c95be70b69eba114fe95"
    }
  },
  "cells": [
    {
      "cell_type": "markdown",
      "source": [
        "# 8. Introduction to python\n",
        "- 프로그램 : 컴퓨터에 의해 실행되는 특정 작업을 수행하기위한 명령어의 집합\n",
        "- 프로그래밍 : 실행가능한 프로그램을 설계하고 빌드하는 과정\n",
        "- 프로그래밍 언어 : 프로그래밍을 위한 명령어의 집합을 구성하는 포멀 랭귀지\n",
        "\n",
        "귀도 반 로섬이 1991년에 만듦, 가독성과 단순함에 초점\n",
        "\n",
        "## 1. 직관적이고 단순한 문법\n",
        "- 배우고 이해하기 쉽다.\n",
        "\n",
        "## 2. 인터프리티드 프로그래밍 언어 : 런타임에 인터프리트 및 실행됨. \n",
        "- c는 컴파일 언어. \n",
        "- 느리지만 portable해서 개발과 디버깅이 쉽다.\n",
        "\n",
        "## 3. dynamically-typed \n",
        "- 런타임 값에 의해 변수의 타입이 결정됨\n",
        "- 높은 유연성, 빠른 프로토타입 개발\n",
        "- c는 statically-typed : 이해하기 쉬움, 타입 관련 버그를 찾기 쉬움\n",
        "\n",
        "## 4. 오픈 소스\n",
        "- GPL-compatible license : 수정 가능, 오픈소스화하지 않아도 됨. GPL 라이선스 sw와 합쳐서 GPL로 배포할수 있다. 라이선스 충돌이 없다.\n",
        "\n",
        "## 5. 기타 특징\n",
        "- 객체지향\n",
        "- garbage collected\n",
        "- 함수형 프로그래밍"
      ],
      "metadata": {
        "id": "j8i1aAZ9xp8q"
      }
    },
    {
      "cell_type": "code",
      "execution_count": null,
      "source": [
        "# '와\"로 문자 스트링 표현 가능\n",
        "# 스탠다드 라이브러리는 포함되어 있음\n",
        "print('A', 'B') # 띄어 쓰기\n",
        "print('a'+'b') \n",
        "\n",
        "print('abc'*2)\n",
        "print('ABC\\t'*2) # 탭\n",
        "print('ABC\\n'*2) # 개행\n",
        "\n",
        "for i in range(5):\n",
        "    print(1, end='\\t') # 디폴트 end는 개행문자\n",
        "\n",
        "isStudent = True\n",
        "print(\"student\" if isStudent else \"professor\") # if else 사용가능\n",
        "\n",
        "# placeholder {}\n",
        "formatStr = 'hello {} world'.format('python')\n",
        "print(formatStr)\n",
        "print('hello {0} {2}world'.format('1', '2', '3')) #인덱싱 가능\n",
        "print('hello {1} world'.format('1', '2', '3'))\n",
        "print('hello {} {} {} world'.format('1', '2', '3'))#인덱싱 안하면 스트링의 개수와 맞게 placeholder 써야함\n",
        "print('hello {name} world'.format(name = '1', id = '2', num = '3')) # 키워드 사용가능\n",
        "# 어떠한 데이터 타입도 format()의 입력으로 사용가능 (어차피 스트링으로 변환됨)\n",
        "i = 5\n",
        "print('{} X {} = {}'.format(3, i, 3*i))\n",
        "print('{0:<5} X {1:>5} = {2:^5}'.format(3, i, 3*i)) #공백 조절가능\n",
        "print('{0:-<5} X {1:->5} = {2:-^5}'.format(3, i, 3*i)) #기호 가능"
      ],
      "outputs": [
        {
          "output_type": "stream",
          "name": "stdout",
          "text": [
            "A B\n",
            "ab\n",
            "abcabc\n",
            "ABC\tABC\t\n",
            "ABC\n",
            "ABC\n",
            "\n",
            "1\t1\t1\t1\t1\tstudent\n",
            "hello python world\n",
            "hello 1 3world\n",
            "hello 2 world\n",
            "hello 1 2 3 world\n",
            "hello 1 world\n",
            "3 X 5 = 15\n",
            "3     X     5 =  15  \n",
            "3---- X ----5 = -15--\n"
          ]
        }
      ],
      "metadata": {
        "colab": {
          "base_uri": "https://localhost:8080/"
        },
        "id": "x5FDVczP0hco",
        "outputId": "50efe2c3-6d78-4e8b-c19d-e7d3744ae254"
      }
    },
    {
      "cell_type": "markdown",
      "source": [
        "# 9. 파이썬 기초\n",
        "## 1. variables & operations\n",
        "#### 1) storage location(memory address)는 symbolic name(identifier)와 짝지어져 있음.\n",
        "- 변수에 저장된 특정값을 쉽게 접근하고 수정할 수 있다.\n",
        "- 가독성을 올리고 실수를 줄일 수 있따.\n",
        "- 메모리 주소가 식별자에 할당되고 값이 그곳에 저장됨.\n",
        "\n",
        "## 변수선언\n",
        "- 식별자와 할당기호, 값만 사용 : 타입을 명시할 필요없음. 값에 의해 타입결정\n",
        "- 타입은 데이터를 사용하기 위한 프로그래머의 의도를 말해준다.\n",
        "- 파이썬은 dynamically typed 언어 : 높은 유연성, 빠른 프로토타이핑\n",
        "- 변수이름은 문자, 숫자, 언더바만 허용 / 공백 사용불가 / 문자나 언더바로만 시작할 수 있다. / 대소문자를 구분한다. / 길이의 제한은 없다. / 예약어는 사용불가\n",
        "- 변수의 의미와 목적을 알수있도록 이름을 지어야한다.\n",
        "- Calmel case : 다른 단어의 시작만 대문자\n",
        "  \n",
        "\n",
        "## expression\n",
        "- 연산자와 피연산자의 조합.\n",
        "- +, \\-, *, /, %(나머지), **(지수), //(몫)\n",
        "- operation은 같은 타입의 피연산자를 필요로 한다. -> 어기면 타입에러\n",
        "- 어떤 타입은 동적으로 변환된다. int->float"
      ],
      "metadata": {
        "id": "OMBVdVBP1ce5"
      }
    },
    {
      "cell_type": "code",
      "execution_count": null,
      "source": [
        "num=10\n",
        "print(type(num))\n",
        "\n",
        "floatPoint = 3.14\n",
        "print(type(floatPoint))\n",
        "\n",
        "string = 'hello'\n",
        "print(type(string))\n",
        "\n",
        "num = 'world'\n",
        "print(type(num)) #덮어쓰기\n",
        "\n",
        "a = 10\n",
        "b = 3.14\n",
        "print(a+b) #연산할 때만 타입변경"
      ],
      "outputs": [
        {
          "output_type": "stream",
          "name": "stdout",
          "text": [
            "<class 'int'>\n",
            "<class 'float'>\n",
            "<class 'str'>\n",
            "<class 'str'>\n",
            "13.14\n"
          ]
        }
      ],
      "metadata": {
        "colab": {
          "base_uri": "https://localhost:8080/"
        },
        "id": "piJXw_2J4s-4",
        "outputId": "4331e03d-fad8-41b8-972e-d5cb75e5aa9b"
      }
    },
    {
      "cell_type": "markdown",
      "source": [
        "## string type\n",
        "- '나\"로 표현하고, \\'로 문자열내에 표현가능\n",
        "- 문자 하나나 문자열 모두 스트링타입 사용\n",
        "## escape characters\n",
        "- 문자열 내에 \\t, \\n 등 사용가능.\n",
        "- print()함수시 반영됨."
      ],
      "metadata": {
        "id": "L08K0X_J8GBy"
      }
    },
    {
      "cell_type": "code",
      "execution_count": null,
      "source": [
        "msg = 'Let\\' go'\n",
        "msg = \"Let's go\"\n",
        "print(msg)\n",
        "\n",
        "a = str(a) #문자열로 변환\n",
        "print(a, type(a))"
      ],
      "outputs": [
        {
          "output_type": "stream",
          "name": "stdout",
          "text": [
            "Let's go\n",
            "10 <class 'str'>\n"
          ]
        }
      ],
      "metadata": {
        "colab": {
          "base_uri": "https://localhost:8080/"
        },
        "id": "ClMyqf1g8cLR",
        "outputId": "606a6ae0-d079-427a-ce34-24adcb5622bd"
      }
    },
    {
      "cell_type": "markdown",
      "source": [
        "# Numeric type\n",
        "- int\n",
        "- float\n",
        "- bool : 기타->True->1, 0->False->0\n",
        "- 명시적 타입 캐스팅 가능\n"
      ],
      "metadata": {
        "id": "Pz3iIzxS9qbj"
      }
    },
    {
      "cell_type": "code",
      "execution_count": 2,
      "source": [
        "complexNum = 1 + 2j\n",
        "print(complexNum, type(complexNum))\n",
        "print(complexNum.real)\n",
        "print(complexNum.imag)\n",
        "print(complexNum.conjugate())\n",
        "print(abs(complexNum))\n",
        "\n",
        "a = 1e9     # 1,000,000,000\n",
        "b = 39e-1   # 3.9\n",
        "print(round(3.15151515, 3))\n",
        "# 소수점 계산은 round(실수, 반올림위치-1)\n",
        "# % : 나머지, // : 몫\n",
        "\n",
        "print(eval('3 * 8')) # 문자열 수식 계산"
      ],
      "outputs": [
        {
          "output_type": "stream",
          "name": "stdout",
          "text": [
            "(1+2j) <class 'complex'>\n",
            "1.0\n",
            "2.0\n",
            "(1-2j)\n",
            "2.23606797749979\n",
            "3.152\n",
            "24\n"
          ]
        }
      ],
      "metadata": {
        "colab": {
          "base_uri": "https://localhost:8080/"
        },
        "id": "EOavTU3y-PBV",
        "outputId": "5db60004-d16d-49d9-c055-736bdcf90fe0"
      }
    },
    {
      "cell_type": "markdown",
      "source": [
        "bool<int<float<complex\n",
        "\n",
        "## 1. 명시적 타입 변환\n",
        "- 함수를 사용\n",
        "- string은 int(), float(), comples() 사용 불가.\n",
        "- 정보손실하면서 큰 타입 -> 작은 타입 가능\n",
        "\n",
        "## 2. 암시적 타입 변환\n",
        "- operation에서 발생\n",
        "- 작은 int에서 큰 float로(bool->int, float->complex)"
      ],
      "metadata": {
        "id": "4A03JeWD-lKu"
      }
    },
    {
      "cell_type": "code",
      "execution_count": null,
      "source": [
        "#multiple assignment가능\n",
        "num1 = 10\n",
        "num3=num4=num5=num1\n",
        "\n",
        "#augmented assingment operators are allowed (//=, +=)\n",
        "\n",
        "#comparison operation : 결과는 bool (==, <=, >=, !=, <, >)\n",
        "\n",
        "#logical operation : (and, or, not)\n",
        "# x and y : x가 거짓이면 x 반환\n",
        "# x or y : x가 거짓이면 y 반환\n",
        "\n",
        "#bitwise operation\n",
        "# & : and\n",
        "# | : or\n",
        "# ^ : xor 다른 값이면 1\n",
        "# ~ : not\n",
        "# << : shift left *2\n",
        "# >> : shift right /2\n",
        "# 정수형에서만 사용가능\n",
        "# 0b 를 쓰면 이진법으로 표현가능, bin()를 쓰면 이진법으로 출력가능\n",
        "x = 0b0011\n",
        "y = 0b1010\n",
        "print(bin(x^y))\n",
        "print(bin(~x))\n",
        "print(~x)\n",
        "print(bin(x<<2))\n",
        "print(x<<2)\n",
        "# assign과 augmentation가능 &=, |=, ^=, ...\n",
        "# 주석 ''', \"\"\", 텍스트셀\n",
        "\n",
        "name = input('input:') #입력을 문자열로, 명시적 형변환으로 바꿔서 쓰면 됨."
      ],
      "outputs": [
        {
          "output_type": "stream",
          "name": "stdout",
          "text": [
            "0b1001\n",
            "-0b100\n",
            "-4\n",
            "0b1100\n",
            "12\n",
            "input:name\n"
          ]
        }
      ],
      "metadata": {
        "colab": {
          "base_uri": "https://localhost:8080/"
        },
        "id": "uBxqmbkJ_nhS",
        "outputId": "34bc63d2-0909-4a0f-a5fa-ebf44bb0bcdd"
      }
    },
    {
      "cell_type": "code",
      "execution_count": null,
      "source": [
        "# Membership operator\n",
        "x = 1\n",
        "y = [1, 2, 3, 4, 5]\n",
        "print(x in y)\n",
        "\n",
        "x = 'a'\n",
        "y = 'hello'\n",
        "print(x not in y)\n",
        "\n",
        "# Block : maximal sequence of codes/instructions that is executed sequentially"
      ],
      "outputs": [],
      "metadata": {
        "id": "BWhK9nTrDPu4"
      }
    },
    {
      "cell_type": "markdown",
      "source": [
        "# Control statements\n",
        "- 들여쓰기로 블록 구분\n",
        "##conditional statements\n",
        "- 이중 if는 and or로 가독성 올릴수있음\n",
        "## loop statements\n",
        "- for:횟수가 명확할 때\n",
        "- while:횟수가 불명확\n",
        "- break, continue"
      ],
      "metadata": {
        "id": "xzvEaSS9F45T"
      }
    },
    {
      "cell_type": "code",
      "execution_count": null,
      "source": [
        "print(list(range(5)))   # 0 ~ N-1\n",
        "print(list(range(1, 5))) # M ~ N-1\n",
        "print(list(range(1, 5, 2))) # 2 간격\n",
        "print(list(range(1, 5, -2))) \n",
        "print(list(range(5, 1, -2)))  \n",
        "\n",
        "range(5)"
      ],
      "outputs": [
        {
          "output_type": "stream",
          "name": "stdout",
          "text": [
            "[0, 1, 2, 3, 4]\n",
            "[1, 2, 3, 4]\n",
            "[1, 3]\n",
            "[]\n",
            "[5, 3]\n"
          ]
        },
        {
          "output_type": "execute_result",
          "data": {
            "text/plain": [
              "range(5, 1, -2)"
            ]
          },
          "metadata": {
            "tags": []
          },
          "execution_count": 31
        }
      ],
      "metadata": {
        "colab": {
          "base_uri": "https://localhost:8080/"
        },
        "id": "yR45tJW9Hv8r",
        "outputId": "fc3769af-8d3d-4a06-ab52-fce6631d8594"
      }
    },
    {
      "cell_type": "code",
      "execution_count": null,
      "source": [
        "# factorial1\n",
        "n = int(input('number:'))\n",
        "fact = 1\n",
        "for k in range(1, n+1):\n",
        "    fact *= k\n",
        "print(fact)\n",
        "\n",
        "# factorial2 : recursion\n",
        "def fact(n):\n",
        "    if n == 1:\n",
        "        return 1\n",
        "    else:\n",
        "        return n*fact(n-1)\n",
        "n = 5\n",
        "print(fact(5))\n",
        "\n",
        "#fibonacci\n",
        "def fibo(n):\n",
        "    if n<=1:\n",
        "        return n\n",
        "    else:\n",
        "        return fibo(n-1) + fibo(n-2)\n",
        "print(fibo(3))"
      ],
      "outputs": [
        {
          "output_type": "stream",
          "name": "stdout",
          "text": [
            "number:3\n",
            "6\n",
            "120\n",
            "2\n"
          ]
        }
      ],
      "metadata": {
        "colab": {
          "base_uri": "https://localhost:8080/"
        },
        "id": "xNomAcvvJDbV",
        "outputId": "4728a17c-bcd4-401c-948c-1c7afe320d92"
      }
    },
    {
      "cell_type": "code",
      "execution_count": null,
      "source": [
        "strings = ['abc', 'def', 'ghi']\n",
        "for i in strings:\n",
        "    print(i)\n",
        "\n",
        "string = 'hello'\n",
        "for i in string:\n",
        "    print(i)"
      ],
      "outputs": [
        {
          "output_type": "stream",
          "name": "stdout",
          "text": [
            "abc\n",
            "def\n",
            "ghi\n",
            "h\n",
            "e\n",
            "l\n",
            "l\n",
            "o\n"
          ]
        }
      ],
      "metadata": {
        "colab": {
          "base_uri": "https://localhost:8080/"
        },
        "id": "zwQ1o6wuJm2e",
        "outputId": "0c2180a6-3d6e-4e96-d13f-9dbfab47428a"
      }
    },
    {
      "cell_type": "code",
      "execution_count": null,
      "source": [
        "# find prime number\n",
        "for i in range(2,101):\n",
        "    isPrime = True\n",
        "    for j in range(2, i):\n",
        "        if i%j == 0:\n",
        "            isPrime = False\n",
        "    if isPrime:\n",
        "        print(i, end=' ')"
      ],
      "outputs": [
        {
          "output_type": "stream",
          "name": "stdout",
          "text": [
            "2 3 5 7 11 13 17 19 23 29 31 37 41 43 47 53 59 61 67 71 73 79 83 89 97 "
          ]
        }
      ],
      "metadata": {
        "colab": {
          "base_uri": "https://localhost:8080/"
        },
        "id": "E2MnJLY2NyoN",
        "outputId": "8db2f665-5240-4f13-ecb5-fe7a75ff75ea"
      }
    },
    {
      "cell_type": "markdown",
      "source": [
        "# Functions/Procedure\n",
        "A sequence of profram instructions that performs a specific task, packaged as a unit\n",
        "- programs contain a single or multiple functions\n",
        "- function contain a single or multiple blocks\n",
        "- built-in function / user-defined functions\n",
        "- 함수는 다른 함수 안에서 선언될 수 있다.\n",
        "- 디폴트 파라미터는 뒤에서부터 채워야함\n",
        "- 키워드로 위치상관없이 함수에 인자전달할 수 있음\n",
        "- 키워드 인자는 뒤에서부터 채워야함\n",
        "- 길이가 정해지지 않은 입력들을 *를 붙여서 list로 입력받을 수 있음\n",
        "- 반환문에선 표현식 적어도 됨, 여러값 반환가능\n",
        "\n",
        "# Local variables\n",
        "- function/class/module 안에서 선언된 것. (if 구문 안에서 선언된 것은 로컬로 안침.)\n",
        "\n",
        "# Global variables\n",
        "\n",
        "# Scoping rule : LEGB\n",
        "- Local->Enclosing->Global->Built-in\n",
        "\n",
        "# built-in function"
      ],
      "metadata": {
        "id": "4AgcWufBJGrt"
      }
    },
    {
      "cell_type": "code",
      "execution_count": null,
      "source": [
        "#input()을 split 메소드를 사용하여 공백을 기준으로 문자열을 나눠 list를 만들 수 있음\n",
        "multiple = input().split() #split()은 string 오브젝트의 메소드, 결과는 list이므로 int()에 넣을 수는 없음.\n",
        "#split(',') 처럼 나누는 기준을 바꿀 수 있음"
      ],
      "outputs": [
        {
          "output_type": "stream",
          "name": "stdout",
          "text": [
            "3\n",
            "['heoo']\n"
          ]
        }
      ],
      "metadata": {
        "colab": {
          "base_uri": "https://localhost:8080/"
        },
        "id": "G8Z2wTGxu39q",
        "outputId": "4eef146a-2001-4e1f-bcf6-5b6b652315b4"
      }
    }
  ]
}
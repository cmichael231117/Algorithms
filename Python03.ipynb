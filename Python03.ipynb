{
 "cells": [
  {
   "cell_type": "markdown",
   "source": [
    "itertools\n",
    "==\n",
    "list로 변환해 주어야 함\n",
    "--\n",
    "> - permutations : 모든 경우의 순열 튜플을 반환. permutations(data, n)\n",
    "\n",
    "> - combinations : 모든 경우의 조합 튜플을 반환. combinations(data, n)\n",
    "\n",
    "> - product : 중복하여 뽑는 순열. product(data, repeat=2)\n",
    "\n",
    "> - combination_with_replacement : 중복하여 뽑는 조합. combination_with_replacement(data, 2)\n"
   ],
   "metadata": {}
  },
  {
   "cell_type": "code",
   "execution_count": 6,
   "source": [
    "from itertools import permutations, combinations, combinations_with_replacement, product\n",
    "\n",
    "data = ['A', 'B', 'C']\n",
    "\n",
    "print(list(permutations(data, 3)))\n",
    "print(list(combinations(data, 2)))\n",
    "\n",
    "print(list(product(data, repeat=2)))\n",
    "print(list(combinations_with_replacement(data, 2)))"
   ],
   "outputs": [
    {
     "output_type": "stream",
     "name": "stdout",
     "text": [
      "[('A', 'B', 'C'), ('A', 'C', 'B'), ('B', 'A', 'C'), ('B', 'C', 'A'), ('C', 'A', 'B'), ('C', 'B', 'A')]\n",
      "[('A', 'B'), ('A', 'C'), ('B', 'C')]\n",
      "[('A', 'A'), ('A', 'B'), ('A', 'C'), ('B', 'A'), ('B', 'B'), ('B', 'C'), ('C', 'A'), ('C', 'B'), ('C', 'C')]\n",
      "[('A', 'A'), ('A', 'B'), ('A', 'C'), ('B', 'B'), ('B', 'C'), ('C', 'C')]\n"
     ]
    }
   ],
   "metadata": {}
  },
  {
   "cell_type": "markdown",
   "source": [
    "heapq\n",
    "==\n",
    "우선순위 큐보다 빠름. (?)\n",
    "--\n",
    "> - min heap이므로 O(Nlog(N)) 안에 오름차순 정렬.\n",
    "> - max heap 구현은 음수 부호를 붙여 구현.\n",
    "> - 튜플 입력시, 첫번쨰 수를 기준으로 정렬\n"
   ],
   "metadata": {}
  },
  {
   "cell_type": "code",
   "execution_count": 7,
   "source": [
    "import heapq\n",
    "\n",
    "def heapsort(iterable):\n",
    "    h = []\n",
    "    result = []\n",
    "    for value in iterable:\n",
    "        heapq.heappush(h, value)\n",
    "\n",
    "    print(h)\n",
    "    \n",
    "    for i in range(len(h)): # 혹은 while h:\n",
    "        result.append(heapq.heappop(h))\n",
    "    return result\n",
    "\n",
    "result = heapsort([1,4,2,5,3])\n",
    "print(result)\n",
    "\n"
   ],
   "outputs": [
    {
     "output_type": "stream",
     "name": "stdout",
     "text": [
      "[1, 3, 2, 5, 4]\n",
      "[1, 2, 3, 4, 5]\n"
     ]
    }
   ],
   "metadata": {}
  },
  {
   "cell_type": "markdown",
   "source": [
    "bisect\n",
    "==\n",
    "정렬된 배열에서 원소를 찾기에 용이.\n",
    "--\n",
    "> - bisect_left(list, x) : 정렬된 순서를 유지하며 리스트에 x를 삽입할 가장 왼쪽 인덱스 반환\n",
    "> - bisect_right(list, x) : 정렬된 순서를 유지하며 리스트에 x를 삽입할 가장 오른쪽 인덱스 반환"
   ],
   "metadata": {}
  },
  {
   "cell_type": "code",
   "execution_count": 9,
   "source": [
    "from bisect import bisect_left, bisect_right\n",
    "\n",
    "a = [1, 2, 4, 4, 8]\n",
    "x= 4\n",
    "# O(logN)으로 특정 값의 갯수 찾기.\n",
    "print(bisect_right(a, x) - bisect_left(a, x))"
   ],
   "outputs": [
    {
     "output_type": "stream",
     "name": "stdout",
     "text": [
      "2\n"
     ]
    }
   ],
   "metadata": {}
  },
  {
   "cell_type": "markdown",
   "source": [
    "collections\n",
    "==\n",
    "deque\n",
    "--\n",
    "> - 앞 뒤 연산이 O(1)안에 수행됨\n",
    "> - 인덱싱 슬라이싱 불가\n",
    "> - 스택, 큐 둘 다로 이용 가능\n",
    "> - popleft(), pop(), appendleft(), append()\n",
    "\n",
    "Counter\n",
    "--\n",
    "> - 등장횟수를 센다.\n",
    "> - dictionary로 다룬다."
   ],
   "metadata": {}
  },
  {
   "cell_type": "code",
   "execution_count": 10,
   "source": [
    "from collections import deque\n",
    "\n",
    "data = deque([2, 3, 4])\n",
    "data.popleft()"
   ],
   "outputs": [
    {
     "output_type": "execute_result",
     "data": {
      "text/plain": [
       "2"
      ]
     },
     "metadata": {},
     "execution_count": 10
    }
   ],
   "metadata": {}
  },
  {
   "cell_type": "code",
   "execution_count": 11,
   "source": [
    "from collections import Counter\n",
    "\n",
    "counter = Counter(['red', 'blue', 'red', 'green', 'blue', 'blue'])\n",
    "\n",
    "print(dict(counter))"
   ],
   "outputs": [
    {
     "output_type": "stream",
     "name": "stdout",
     "text": [
      "{'red': 2, 'blue': 3, 'green': 1}\n"
     ]
    }
   ],
   "metadata": {}
  },
  {
   "cell_type": "markdown",
   "source": [
    "math\n",
    "=="
   ],
   "metadata": {}
  },
  {
   "cell_type": "code",
   "execution_count": 12,
   "source": [
    "import math\n",
    "\n",
    "print(math.factorial(5))\n",
    "\n",
    "print(math.sqrt(7))\n",
    "\n",
    "print(math.gcd(21, 14)) # 최대공약수\n",
    "\n",
    "print(math.pi)\n",
    "print(math.e)"
   ],
   "outputs": [
    {
     "output_type": "stream",
     "name": "stdout",
     "text": [
      "120\n",
      "2.6457513110645907\n",
      "7\n",
      "3.141592653589793\n",
      "2.718281828459045\n"
     ]
    }
   ],
   "metadata": {}
  },
  {
   "cell_type": "markdown",
   "source": [
    "# Git commands\n",
    ">- git pull origin\n",
    ">- git status\n",
    ">- git add <filename/path>\n",
    ">- git commit -m '~~'\n",
    ">- git push origin main"
   ],
   "metadata": {}
  }
 ],
 "metadata": {
  "orig_nbformat": 4,
  "language_info": {
   "name": "python",
   "version": "3.8.3",
   "mimetype": "text/x-python",
   "codemirror_mode": {
    "name": "ipython",
    "version": 3
   },
   "pygments_lexer": "ipython3",
   "nbconvert_exporter": "python",
   "file_extension": ".py"
  },
  "kernelspec": {
   "name": "python3",
   "display_name": "Python 3.8.3 64-bit (conda)"
  },
  "interpreter": {
   "hash": "e134e05457d34029b6460cd73bbf1ed73f339b5b6d98c95be70b69eba114fe95"
  }
 },
 "nbformat": 4,
 "nbformat_minor": 2
}
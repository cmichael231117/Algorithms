{
 "cells": [
  {
   "cell_type": "markdown",
   "metadata": {},
   "source": [
    "itertools\n",
    "==\n",
    "list로 변환해 주어야 함\n",
    "--\n",
    "> - permutations : 모든 경우의 순열 튜플을 반환. permutations(data, n)\n",
    "\n",
    "> - combinations : 모든 경우의 조합 튜플을 반환. combinations(data, n)\n",
    "\n",
    "> - product : 중복하여 뽑는 순열. product(data, repeat=2), 카테시안 곱\n",
    "\n",
    "> - combination_with_replacement : 중복하여 뽑는 조합. combination_with_replacement(data, 2)\n"
   ]
  },
  {
   "cell_type": "code",
   "execution_count": 1,
   "metadata": {},
   "outputs": [
    {
     "name": "stdout",
     "output_type": "stream",
     "text": [
      "[('A', 'B', 'C'), ('A', 'C', 'B'), ('B', 'A', 'C'), ('B', 'C', 'A'), ('C', 'A', 'B'), ('C', 'B', 'A')]\n",
      "[('A', 'B'), ('A', 'C'), ('B', 'C')]\n",
      "[('A', 'A'), ('A', 'B'), ('A', 'C'), ('B', 'A'), ('B', 'B'), ('B', 'C'), ('C', 'A'), ('C', 'B'), ('C', 'C')]\n",
      "[(1, 'a', '!'), (1, 'a', '@'), (1, 'a', '$'), (1, 'b', '!'), (1, 'b', '@'), (1, 'b', '$'), (1, 'c', '!'), (1, 'c', '@'), (1, 'c', '$'), (2, 'a', '!'), (2, 'a', '@'), (2, 'a', '$'), (2, 'b', '!'), (2, 'b', '@'), (2, 'b', '$'), (2, 'c', '!'), (2, 'c', '@'), (2, 'c', '$'), (3, 'a', '!'), (3, 'a', '@'), (3, 'a', '$'), (3, 'b', '!'), (3, 'b', '@'), (3, 'b', '$'), (3, 'c', '!'), (3, 'c', '@'), (3, 'c', '$')]\n",
      "[('A', 'A'), ('A', 'B'), ('A', 'C'), ('B', 'B'), ('B', 'C'), ('C', 'C')]\n"
     ]
    }
   ],
   "source": [
    "from itertools import permutations, combinations, combinations_with_replacement, product\n",
    "\n",
    "data = ['A', 'B', 'C']\n",
    "\n",
    "print(list(permutations(data, 3)))\n",
    "print(list(combinations(data, 2)))\n",
    "\n",
    "print(list(product(data, repeat=2)))\n",
    "items = [[1,2,3],['a','b','c'],['!','@','$']]\n",
    "print(list(product(*items))) # 두 개 이상의 집합에서 모든 조합 구하기. 카테시안 곱 / 데카르트 곱 / 곱집합\n",
    "# 접두사 '*' 는 해당 데이터를 unpack하는 기능이다. 즉 items는 세개의 리스트로 분리되어 함수의 인자로 전달된다.\n",
    "\n",
    "print(list(combinations_with_replacement(data, 2)))"
   ]
  },
  {
   "cell_type": "markdown",
   "metadata": {},
   "source": [
    "heapq\n",
    "==\n",
    "우선순위 큐보다 빠름. (?)\n",
    "--\n",
    "> - min heap이므로 O(Nlog(N)) 안에 오름차순 정렬.\n",
    "> - max heap 구현은 음수 부호를 붙여 구현.\n",
    "> - 튜플 입력시, 첫번쨰 수를 기준으로 정렬\n"
   ]
  },
  {
   "cell_type": "code",
   "execution_count": 7,
   "metadata": {},
   "outputs": [
    {
     "name": "stdout",
     "output_type": "stream",
     "text": [
      "[1, 3, 2, 5, 4]\n",
      "[1, 2, 3, 4, 5]\n"
     ]
    }
   ],
   "source": [
    "import heapq\n",
    "\n",
    "def heapsort(iterable):\n",
    "    h = []\n",
    "    result = []\n",
    "    for value in iterable:\n",
    "        heapq.heappush(h, value)\n",
    "\n",
    "    print(h)\n",
    "    \n",
    "    for i in range(len(h)): # 혹은 while h:\n",
    "        result.append(heapq.heappop(h))\n",
    "    return result\n",
    "\n",
    "result = heapsort([1,4,2,5,3])\n",
    "print(result)\n",
    "\n"
   ]
  },
  {
   "cell_type": "markdown",
   "metadata": {},
   "source": [
    "bisect\n",
    "==\n",
    "정렬된 배열에서 원소를 찾기에 용이.\n",
    "--\n",
    "> - bisect_left(list, x) : 정렬된 순서를 유지하며 리스트에 x를 삽입할 가장 왼쪽 인덱스 반환\n",
    "> - bisect_right(list, x) : 정렬된 순서를 유지하며 리스트에 x를 삽입할 가장 오른쪽 인덱스 반환"
   ]
  },
  {
   "cell_type": "code",
   "execution_count": 9,
   "metadata": {},
   "outputs": [
    {
     "name": "stdout",
     "output_type": "stream",
     "text": [
      "2\n"
     ]
    }
   ],
   "source": [
    "from bisect import bisect_left, bisect_right\n",
    "\n",
    "a = [1, 2, 4, 4, 8]\n",
    "x= 4\n",
    "# O(logN)으로 특정 값의 갯수 찾기.\n",
    "print(bisect_right(a, x) - bisect_left(a, x))"
   ]
  },
  {
   "cell_type": "markdown",
   "metadata": {},
   "source": [
    "collections\n",
    "==\n",
    "deque\n",
    "--\n",
    "> - 앞 뒤 연산이 O(1)안에 수행됨\n",
    "> - 인덱싱 슬라이싱 불가\n",
    "> - 스택, 큐 둘 다로 이용 가능\n",
    "> - popleft(), pop(), appendleft(), append()\n",
    "\n",
    "Counter\n",
    "--\n",
    "> - 등장횟수를 센다.\n",
    "> - dictionary로 다룬다."
   ]
  },
  {
   "cell_type": "code",
   "execution_count": 10,
   "metadata": {},
   "outputs": [
    {
     "data": {
      "text/plain": [
       "2"
      ]
     },
     "execution_count": 10,
     "metadata": {},
     "output_type": "execute_result"
    }
   ],
   "source": [
    "from collections import deque\n",
    "\n",
    "data = deque([2, 3, 4])\n",
    "data.popleft()"
   ]
  },
  {
   "cell_type": "code",
   "execution_count": 11,
   "metadata": {},
   "outputs": [
    {
     "name": "stdout",
     "output_type": "stream",
     "text": [
      "{'red': 2, 'blue': 3, 'green': 1}\n"
     ]
    }
   ],
   "source": [
    "from collections import Counter\n",
    "\n",
    "counter = Counter(['red', 'blue', 'red', 'green', 'blue', 'blue'])\n",
    "\n",
    "print(dict(counter))"
   ]
  },
  {
   "cell_type": "markdown",
   "metadata": {},
   "source": [
    "math\n",
    "=="
   ]
  },
  {
   "cell_type": "code",
   "execution_count": 12,
   "metadata": {},
   "outputs": [
    {
     "name": "stdout",
     "output_type": "stream",
     "text": [
      "120\n",
      "2.6457513110645907\n",
      "7\n",
      "3.141592653589793\n",
      "2.718281828459045\n"
     ]
    }
   ],
   "source": [
    "import math\n",
    "\n",
    "print(math.factorial(5))\n",
    "\n",
    "print(math.sqrt(7))\n",
    "\n",
    "print(math.gcd(21, 14)) # 최대공약수\n",
    "\n",
    "print(math.pi)\n",
    "print(math.e)"
   ]
  },
  {
   "cell_type": "markdown",
   "metadata": {},
   "source": [
    "# Git commands\n",
    ">- git pull origin\n",
    ">- git status\n",
    ">- git add <filename/path>\n",
    ">- git commit -m '~~'\n",
    ">- git push origin main"
   ]
  }
 ],
 "metadata": {
  "interpreter": {
   "hash": "e134e05457d34029b6460cd73bbf1ed73f339b5b6d98c95be70b69eba114fe95"
  },
  "kernelspec": {
   "display_name": "Python 3.8.3 64-bit (conda)",
   "name": "python3"
  },
  "language_info": {
   "codemirror_mode": {
    "name": "ipython",
    "version": 3
   },
   "file_extension": ".py",
   "mimetype": "text/x-python",
   "name": "python",
   "nbconvert_exporter": "python",
   "pygments_lexer": "ipython3",
   "version": "3.8.3"
  },
  "orig_nbformat": 4
 },
 "nbformat": 4,
 "nbformat_minor": 2
}

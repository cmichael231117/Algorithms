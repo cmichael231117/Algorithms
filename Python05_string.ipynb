{
 "cells": [
  {
   "cell_type": "code",
   "execution_count": 1,
   "metadata": {},
   "outputs": [
    {
     "name": "stdout",
     "output_type": "stream",
     "text": [
      "23:59:59\n"
     ]
    }
   ],
   "source": [
    "# join() : 리스트에 포함된 문자열들을 새로운 문자열로 합치는 함수\n",
    "\n",
    "print( ':'.join([\"23\", \"59\", \"59\"]))"
   ]
  },
  {
   "cell_type": "code",
   "execution_count": null,
   "metadata": {},
   "outputs": [],
   "source": [
    "from itertools import combinations\n",
    "\n",
    "vowels = ('a','e','i','o','u')\n",
    "l, c = map(int, input().split()) # 암호 길이, 문자 개수\n",
    "\n",
    "array = input().split()\n",
    "array.sort()\n",
    "\n",
    "for password in combinations(array, l):\n",
    "    count = 0\n",
    "    for i in password:\n",
    "        if i in vowels:\n",
    "            count += 1\n",
    "    if count >= 1 and count <= l-2:\n",
    "        print(''.join(password))"
   ]
  },
  {
   "cell_type": "code",
   "execution_count": 3,
   "metadata": {},
   "outputs": [
    {
     "name": "stdout",
     "output_type": "stream",
     "text": [
      "I ate 10 apples. so I was sick for three days.\n",
      "        hi\n",
      "hi        jane.\n",
      "3.4213\n",
      "    3.4213\n"
     ]
    }
   ],
   "source": [
    "number = 10\n",
    "day = \"three\"\n",
    "print(\"I ate %d apples. so I was sick for %s days.\" % (number, day))\n",
    "\"\"\"\n",
    "%s\t문자열(String)\n",
    "        (%c\t문자 1개(character))            %s로 대체 가능\n",
    "        (%d\t정수(Integer))                  %s로 대체 가능\n",
    "        (%f\t부동소수(floating-point))        %s로 대체 가능\n",
    "%o\t8진수\n",
    "%x\t16진수\n",
    "%%\tLiteral % (문자 % 자체)\n",
    "\"\"\"\n",
    "# 정렬 & 공백\n",
    "print(\"%10s\" % \"hi\")\n",
    "print(\"%-10sjane.\" % 'hi')\n",
    "# 소수점\n",
    "print(\"%0.4f\" % 3.42134234)\n",
    "print(\"%10.4f\" % 3.42134234)"
   ]
  },
  {
   "cell_type": "code",
   "execution_count": 6,
   "metadata": {},
   "outputs": [
    {
     "name": "stdout",
     "output_type": "stream",
     "text": [
      "hello python world\n",
      "hello 1 3world\n",
      "hello 2 world\n",
      "hello 1 2 3 world\n",
      "hello 1 world\n",
      "3 X 5 = 15\n",
      "3     X     5 =  15  \n",
      "3---- X ----5 = -15--\n",
      "3.4213\n",
      "    3.4213\n",
      "{ and }\n",
      "나의 이름은 홍길동입니다. 나이는 30입니다.\n"
     ]
    },
    {
     "data": {
      "text/plain": [
       "'나의 이름은 홍길동입니다. 나이는 31입니다.'"
      ]
     },
     "execution_count": 6,
     "metadata": {},
     "output_type": "execute_result"
    }
   ],
   "source": [
    "# placeholder {}\n",
    "formatStr = 'hello {} world'.format('python')\n",
    "print(formatStr)\n",
    "print('hello {0} {2}world'.format('1', '2', '3')) #인덱싱 가능\n",
    "print('hello {1} world'.format('1', '2', '3'))\n",
    "print('hello {} {} {} world'.format('1', '2', '3'))#인덱싱 안하면 스트링의 개수와 맞게 placeholder 써야함\n",
    "print('hello {name} world'.format(name = '1', id = '2', num = '3')) # 키워드 사용가능\n",
    "# 어떠한 데이터 타입도 format()의 입력으로 사용가능 (어차피 스트링으로 변환됨)\n",
    "i = 5\n",
    "print('{} X {} = {}'.format(3, i, 3*i))\n",
    "print('{0:<5} X {1:>5} = {2:^5}'.format(3, i, 3*i)) #공백 조절가능\n",
    "print('{0:-<5} X {1:->5} = {2:-^5}'.format(3, i, 3*i)) #기호 가능\n",
    "\n",
    "y = 3.42134234\n",
    "print(\"{0:0.4f}\".format(y))\n",
    "print(\"{0:10.4f}\".format(y))\n",
    "\n",
    "print(\"{{ and }}\".format())\n",
    "\n",
    "# f 문자열 포매팅\n",
    "name = '홍길동'\n",
    "age = 30\n",
    "print(f'나의 이름은 {name}입니다. 나이는 {age}입니다.')\n",
    "\n",
    "d = {'name':'홍길동', 'age':30}\n",
    "print(f'나의 이름은 {d[\"name\"]}입니다. 나이는 {d[\"age\"]+1}입니다.')"
   ]
  },
  {
   "cell_type": "code",
   "execution_count": 7,
   "metadata": {},
   "outputs": [
    {
     "name": "stdout",
     "output_type": "stream",
     "text": [
      "a,b,c,d\n",
      "a,b,c,d\n",
      "PYTHON IS THE BEST CHOICE\n",
      "python is the best choice\n",
      " hi\n",
      "hi \n"
     ]
    }
   ],
   "source": [
    "# 문자 개수 세기\n",
    "a = \"hobby\"\n",
    "a.count('b')\n",
    "\n",
    "# 인덱스 : 처음으로 나온 위치 반환\n",
    "a = 'python is the best choice'\n",
    "a.find('b')\n",
    "a.find('k') # 없으면 -1\n",
    "\n",
    "a.index('t')\n",
    "# a.index('k') 에러\n",
    "\n",
    "#문자열 삽입\n",
    "print(','.join('abcd'))\n",
    "print(','.join(['a','b','c','d'])) # 리스트/튜플 입력 가능\n",
    "\n",
    "print(a.upper())\n",
    "print(a.lower())\n",
    "\n",
    "# 공백 지우기 \n",
    "a = ' hi '\n",
    "print(a.rstrip())\n",
    "print(a.lstrip())\n",
    "print(a.strip())\n",
    "\n",
    "# 문자열 나누기\n",
    "b = \"a:b:c:d\"\n",
    "print(b.split(':'))"
   ]
  },
  {
   "cell_type": "code",
   "execution_count": 11,
   "metadata": {},
   "outputs": [
    {
     "name": "stdout",
     "output_type": "stream",
     "text": [
      "42\n",
      "0b101010\n",
      "0o52\n",
      "0x2a\n",
      "\n",
      "0b101010\n",
      "0o52\n",
      "0x2a\n"
     ]
    }
   ],
   "source": [
    "print(0b101010) # 42로 표현됨\n",
    "\n",
    "# 특정 진수로 표현한 '문자열' 만들기\n",
    "print(bin(42))\n",
    "print(oct(42))\n",
    "print(hex(42))\n",
    "print()\n",
    "print(bin(0b101010))\n",
    "print(oct(0b101010))\n",
    "print(hex(0b101010))\n",
    "\n",
    "# 문자열 -> 십진수 정수형\n",
    "int('0b101010', 2)\n",
    "int('0o52', 8)\n",
    "int('0x2a', 16)\n",
    "\n",
    "# format()\n",
    "# 접두어 제외\n",
    "print(format(42, 'b'))\n",
    "print(format(42, 'o'))\n",
    "print(format(42, 'x'))\n",
    "print(format(42, 'X'))\n",
    "print(format(42, 'd'))\n",
    "# 접두어 포함\n",
    "print(format(42, '#b'))\n",
    "print(format(42, '#o'))\n",
    "print(format(42, '#x'))\n",
    "print(format(42, '#X'))\n",
    "print(format(42, '#d'))\n",
    "\n",
    "print(\"int: {0:d}, bin: {0:b}, oct: {0:o}, hex: {0:x}\".format(42))\n"
   ]
  },
  {
   "cell_type": "code",
   "execution_count": 24,
   "metadata": {},
   "outputs": [
    {
     "name": "stdout",
     "output_type": "stream",
     "text": [
      "1052689\n",
      "-0b1\n",
      "-1\n",
      "-0b1\n",
      "-1\n",
      "\n",
      "-0b1101\n",
      "-13\n",
      "-0b1010\n",
      "-10\n"
     ]
    }
   ],
   "source": [
    "# 비트 논리 연산자 & | ^ ~ << >>    &= |= ^= <<= >>=\n",
    "# 문자열은 사용불가.\n",
    "# 모든 진수형의 정수형에 사용가능.\n",
    "print((0x101010|0x1011))\n",
    "\n",
    "# not연산 : 마이너스 기호를 붙인 뒤, 1을 뺀다.\n",
    "print(bin(~0b0))\n",
    "print(~0b0)\n",
    "print(bin(-0b0 - 0b1))\n",
    "print((-0b0 - 0b1))\n",
    "\n",
    "print()\n",
    "print(bin(~0b1100))\n",
    "print((~0b1100))\n",
    "print(bin(~0b1001))\n",
    "print((~0b1001))"
   ]
  }
 ],
 "metadata": {
  "interpreter": {
   "hash": "e134e05457d34029b6460cd73bbf1ed73f339b5b6d98c95be70b69eba114fe95"
  },
  "kernelspec": {
   "display_name": "Python 3.8.3 64-bit (conda)",
   "name": "python3"
  },
  "language_info": {
   "codemirror_mode": {
    "name": "ipython",
    "version": 3
   },
   "file_extension": ".py",
   "mimetype": "text/x-python",
   "name": "python",
   "nbconvert_exporter": "python",
   "pygments_lexer": "ipython3",
   "version": "3.8.3"
  },
  "orig_nbformat": 4
 },
 "nbformat": 4,
 "nbformat_minor": 2
}

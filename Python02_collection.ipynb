{
 "cells": [
  {
   "cell_type": "markdown",
   "source": [
    "List\n",
    "====\n",
    "Collection of items, ordered, changable\n",
    "-----------------------------------------\n",
    "> item = element = value\n",
    "   \n",
    "> item은 서로 타입이 다를수 있다. 중복값을 가질 수 있다.\n",
    "> - 문자열은 list와 비슷하게 인덱싱, 슬라이싱 사용가능."
   ],
   "metadata": {}
  },
  {
   "cell_type": "code",
   "execution_count": 1,
   "source": [
    "# 빈 list 초기화 : list(), []   \n",
    "print(list(range(5)))       #list 만들기\n",
    "\n",
    "print(list('hello world'))  #문자 list\n",
    "\n",
    "#빌트인 함수 : min(), max(), sum(), len()   \n",
    "#(문자 빌트인 함수 : min() = 사전순, max() = 역사전순, sum() = 불가능)\n",
    "\n",
    "# 슬라이싱\n",
    "a = list(range(15))\n",
    "# i = 음수 이면, a[i] = a[len(a) + i]\n",
    "print(a[0:10])      # 0 ~ 9\n",
    "print(a[0:10:2])    # 0 ~ 9 [2간격]\n",
    "print(a[9:0:-2])    # 9 ~ 1 [-2간격]\n",
    "print(a[-2:])       # len(a) ~ len(a)-1\n",
    "b = list(range(5,1,-2))"
   ],
   "outputs": [
    {
     "output_type": "stream",
     "name": "stdout",
     "text": [
      "[0, 1, 2, 3, 4]\n",
      "['h', 'e', 'l', 'l', 'o', ' ', 'w', 'o', 'r', 'l', 'd']\n",
      "[0, 1, 2, 3, 4, 5, 6, 7, 8, 9]\n",
      "[0, 2, 4, 6, 8]\n",
      "[9, 7, 5, 3, 1]\n",
      "[13, 14]\n"
     ]
    }
   ],
   "metadata": {}
  },
  {
   "cell_type": "code",
   "execution_count": null,
   "source": [
    "# 메소드 : 객체에 대해 task 수행. list와 같은 객체도 item 취급.\n",
    "# .append() 끝에 추가.\n",
    "# .insert() 특정 위치에 추가.   O(n)\n",
    "# .extend() 다른 리스트와 통합. O(n)\n",
    "# .remove() 특정값을 제거, 반환값 없음, list에 없는 item이면 error, 중복 값은 앞에서부터 제거.  O(n)\n",
    "# .pop()    해당 인덱스의 값을 제거하고 반환. 디폴트는 마지막 값.\n",
    "# .sort()   디폴트 : 오름차순 정렬. reverse=True하면 내림차순.\n",
    "# .reverse()순서를 거꾸로\n",
    "# .index()  특정값의 인덱스 반환, list에 없는 item이면 error, 중복 값은 앞에서부터 반환.\n",
    "# .count()  특정값의 개수 반환.\n",
    "\n",
    "# operation : 메소드와는 달리 객체를 변경하지 않으며, 결과값을 따로 저장해야 함.\n",
    "# + : 두 리스트 합치기\n",
    "# * : 리스트 반복시키기\n",
    "# == : 같은지 확인\n",
    "\n",
    "# List comprehension\n",
    "# list comprehension\n",
    "arr = [[0]*5 for _ in range(10)]\n",
    "# 특정값의 삭제는 remove 대신 comprehension 사용이 효과적\n",
    "\n",
    "# 조건부 표현식\n",
    "rst = 'a' if b > 10 else 'c'\n",
    "\n",
    "# 입력을 리스트로 저장\n",
    "inputList = list(map(int, input().split()))\n",
    "\n",
    "# 대용량 입력\n",
    "import sys\n",
    "sys.stdin.readline().rstrip() # 개행 문자 제거\n",
    "\n",
    "# sorted(iterable_object) : 정렬한 결과 반환, reverse=True, 람다식 사용가능"
   ],
   "outputs": [],
   "metadata": {}
  },
  {
   "cell_type": "markdown",
   "source": [
    "Dictionary\n",
    "==========\n",
    "Collection of key-value pairs, unordered, changable\n",
    "-------\n",
    "> 키를 통해 값을 접근. 해시테이블 O(1)"
   ],
   "metadata": {}
  },
  {
   "cell_type": "code",
   "execution_count": 2,
   "source": [
    "# 빈 dict 초기화 : {}\n",
    "\n",
    "user = {'name':'Tom', 'id':1234}    # dict 만들기.\n",
    "print(user['name'])                 # 값 출력.\n",
    "\n",
    "# dict의 list는 user[0]['name'] 이런 식으로 접근.\n",
    "# 해당하는 키가 없으면 에러가 나기 때문에 key in user로 미리 확인해 줘야 함.\n",
    "user['univ'] = 'CAU'                # 새 pair 추가. 이미 존재하는 키라면, 값이 바뀐다.\n",
    "del(user['id'])                     # pair 제거. \n",
    "print(len(user))                    # pair 수.\n",
    "\n",
    "# 딕셔너리끼리 비교연산은 순서에 상관없이 짝이 동일하면 참.\n",
    "\n",
    "# 메소드\n",
    "# .keys()   키들 반환.\n",
    "# .values() 값들 반환.\n",
    "# .items()  pair 반환.      for items in user.items():\n",
    "#-------------------list()로 리스트화 가능.\n",
    "\n",
    "# .get()        키에 매핑된 값 반환, 없으면 에러가 아닌 none 반환.\n",
    "# .pop()        키에 매핑된 값 반환, 해당 pair 삭제.\n",
    "# .popitem()    마지막 짝 pop.\n",
    "# .clear()      리셋."
   ],
   "outputs": [
    {
     "output_type": "stream",
     "name": "stdout",
     "text": [
      "Tom\n",
      "2\n"
     ]
    }
   ],
   "metadata": {}
  },
  {
   "cell_type": "markdown",
   "source": [
    "Tuple\n",
    "=====\n",
    "Collection of values, ordered, non-changeable(immutable)\n",
    "----\n",
    "> list처럼 인덱스로 값 접근 및 슬라이싱 가능, 수정이 필요하면 list로 바꿔야 함.\n",
    "> 반환문에서 튜플을 이용해 여러 값을 반환할 수 있다.\n",
    "> - 그래프 알고리즘 구현에 사용한다 : list보다 공간효율 좋음, 원소의 성질이 다를 때 사용 (비용, 노드번호)"
   ],
   "metadata": {}
  },
  {
   "cell_type": "code",
   "execution_count": 3,
   "source": [
    "# 빈 튜플 초기화 : ()\n",
    "t1 = (1,)\n",
    "t2 = tuple([1,2,3])\n",
    "\n",
    "# Packing & Unpacking\n",
    "pack = (1, 2, 3, 4)\n",
    "up1, up2, up3, up4 = pack\n",
    "\n",
    "# Swap\n",
    "a, b = b, a\n",
    "\n",
    "# 메소드\n",
    "# .count(value) : 값의 개수\n",
    "# .index(value) : 값의 인덱스\n",
    "\n",
    "# operation\n",
    "# + : concatenate\n",
    "# * : 여러번 concate\n",
    "# in, not in : membership\n",
    "# ==, != : comparison"
   ],
   "outputs": [],
   "metadata": {}
  },
  {
   "cell_type": "markdown",
   "source": [
    "Set\n",
    "====\n",
    "Collection of 'unique' values, unordered, changeable\n",
    "--\n",
    "> 인덱싱 못함."
   ],
   "metadata": {}
  },
  {
   "cell_type": "code",
   "execution_count": 4,
   "source": [
    "# 빈 set 초기화 : set()\n",
    "\n",
    "# 메소드\n",
    "# .add(value)                       값 추가\n",
    "# .discard(value)                   값 제거\n",
    "# .clear()                          리셋.\n",
    "# .union(other_set)                 합집합 : operation처럼 객체를 변화시키지 않음.\n",
    "# .intersection(other_set)          교집합 : operation처럼 객체를 변화시키지 않음.\n",
    "# .difference(other_set)            차집합.\n",
    "# .symmetric_difference(other_set)  합집합 - 교집합.\n",
    "# .issubset(other_set)              other_set의 부분집합인지.\n",
    "# .issuperset(other_set)            other_set의 상위집합인지.\n",
    "# .isdisjoint(other_set)            서로소인지.\n",
    "# .update(list)                     여러값 추가.\n",
    "# .remove(value)                    값 제거. \n",
    "\n",
    "# operation\n",
    "# & : 교집합.\n",
    "# | : 합집합.\n",
    "# - : 차집합.\n",
    "# ^ : 합집합 - 교집합."
   ],
   "outputs": [],
   "metadata": {}
  },
  {
   "cell_type": "code",
   "execution_count": null,
   "source": [
    "# zip() : 서로 다른 collection을 tuple로 합친다.\n",
    "# 작은 쪽의 크기에 맞춘다.\n",
    "# 세 개도 가능\n",
    "# 딕셔너리 만들기 쉽다.\n",
    "for key, value in zip(stationLine, stationInfo):\n",
    "    subway[key] = value"
   ],
   "outputs": [],
   "metadata": {}
  }
 ],
 "metadata": {
  "orig_nbformat": 4,
  "language_info": {
   "name": "python",
   "version": "3.8.3",
   "mimetype": "text/x-python",
   "codemirror_mode": {
    "name": "ipython",
    "version": 3
   },
   "pygments_lexer": "ipython3",
   "nbconvert_exporter": "python",
   "file_extension": ".py"
  },
  "kernelspec": {
   "name": "python3",
   "display_name": "Python 3.8.3 64-bit (conda)"
  },
  "interpreter": {
   "hash": "e134e05457d34029b6460cd73bbf1ed73f339b5b6d98c95be70b69eba114fe95"
  }
 },
 "nbformat": 4,
 "nbformat_minor": 2
}